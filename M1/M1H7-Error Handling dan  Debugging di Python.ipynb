{
 "cells": [
  {
   "cell_type": "markdown",
   "metadata": {},
   "source": [
    "# Hari 7: Error Handling & Debugging di Python"
   ]
  },
  {
   "cell_type": "markdown",
   "metadata": {},
   "source": [
    "## 1. Jenis-Jenis Error di Python\n",
    "Python memiliki beberapa jenis error yang umum terjadi, antara lain:\n",
    "- `SyntaxError`: Kesalahan dalam penulisan kode\n",
    "- `NameError`: Variabel yang tidak dideklarasikan\n",
    "- `TypeError`: Operasi pada tipe data yang tidak sesuai\n",
    "- `IndexError`: Akses indeks di luar batas daftar\n",
    "- `KeyError`: Akses kunci yang tidak ada dalam dictionary"
   ]
  },
  {
   "cell_type": "markdown",
   "metadata": {},
   "source": [
    "## 2. Menangani Error dengan Try-Except\n",
    "Gunakan `try-except` untuk menangani error dan mencegah program berhenti secara tiba-tiba."
   ]
  },
  {
   "cell_type": "code",
   "execution_count": null,
   "metadata": {},
   "outputs": [],
   "source": [
    "try:\n",
    "    angka = int(input('Masukkan angka: '))\n",
    "    hasil = 10 / angka\n",
    "    print('Hasil:', hasil)\n",
    "except ZeroDivisionError:\n",
    "    print('Error: Tidak bisa membagi dengan nol!') \n",
    "except ValueError:\n",
    "    print('Error: Harap masukkan angka yang benar !') # Nilai yang dimasukan bukan angka\n",
    "except Exception as e:\n",
    "    print(f'Error lainnya: {e}') # Error lainnya yang tidak terduga"
   ]
  },
  {
   "cell_type": "markdown",
   "metadata": {},
   "source": [
    "## 3. Menggunakan Finally\n",
    "Blok `finally` akan selalu dieksekusi, baik terjadi error maupun tidak."
   ]
  },
  {
   "cell_type": "code",
   "execution_count": null,
   "metadata": {},
   "outputs": [],
   "source": [
    "try:\n",
    "    file = open('data.txt', 'r')\n",
    "    print(file.read())\n",
    "except FileNotFoundError:\n",
    "    print('File tidak ditemukan!')\n",
    "finally:\n",
    "    print('Eksekusi selesai.')"
   ]
  },
  {
   "cell_type": "markdown",
   "metadata": {},
   "source": [
    "## 4. Debugging dengan Print dan Logging\n",
    "Gunakan `print()` untuk debugging sederhana atau gunakan `logging` untuk pendekatan yang lebih profesional."
   ]
  },
  {
   "cell_type": "code",
   "execution_count": null,
   "metadata": {},
   "outputs": [],
   "source": [
    "import logging\n",
    "logging.basicConfig(level=logging.INFO)\n",
    "\n",
    "def bagi(a, b):\n",
    "    try:\n",
    "        hasil = a / b\n",
    "        logging.info(f'Hasil bagi: {hasil}')\n",
    "        return hasil\n",
    "    except ZeroDivisionError:\n",
    "        logging.error('Error: Pembagian dengan nol tidak diperbolehkan!')\n",
    "        return None\n",
    "bagi(10, 2)\n",
    "bagi(5, 0)"
   ]
  },
  {
   "cell_type": "markdown",
   "metadata": {},
   "source": [
    "## 5. Latihan\n",
    "1. Buat program yang meminta pengguna memasukkan dua angka lalu membaginya. Tangani kesalahan jika input bukan angka atau jika pembagian dengan nol terjadi.\n",
    "2. Buat program yang membaca file dan menangani error jika file tidak ditemukan."
   ]
  },
  {
   "cell_type": "markdown",
   "metadata": {},
   "source": [
    "## 6. Kuis Singkat\n",
    "1. Apa fungsi `try-except` dalam Python?\n",
    "2. Mengapa `finally` digunakan dalam error handling?\n",
    "3. Apa perbedaan antara `print()` dan `logging` untuk debugging?"
   ]
  },
  {
   "cell_type": "markdown",
   "metadata": {},
   "source": [
    "## 7. Tip & Trik\n",
    "- Gunakan **try-except** untuk menangani error yang bisa diprediksi.\n",
    "- Selalu tambahkan **except Exception as e** untuk menangkap error tak terduga.\n",
    "- Gunakan **logging** daripada print untuk debugging di proyek besar.\n",
    "- Gunakan **assert** untuk debugging cepat saat mengembangkan kode.\n",
    "  ```python\n",
    "  assert 2 + 2 == 4, 'Perhitungan salah!'\n",
    "  ```\n",
    "- Aktifkan **debug mode** di editor seperti VS Code atau PyCharm untuk tracing error lebih cepat."
   ]
  }
 ],
 "metadata": {
  "kernelspec": {
   "display_name": "Python 3",
   "language": "python",
   "name": "python3"
  },
  "language_info": {
   "codemirror_mode": {
    "name": "ipython",
    "version": 3
   },
   "file_extension": ".py",
   "mimetype": "text/x-python",
   "name": "python",
   "nbconvert_exporter": "python",
   "pygments_lexer": "ipython3",
   "version": "3.8.5"
  }
 },
 "nbformat": 4,
 "nbformat_minor": 4
}
