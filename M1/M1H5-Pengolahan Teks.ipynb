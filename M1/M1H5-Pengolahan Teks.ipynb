{
 "cells": [
  {
   "cell_type": "markdown",
   "metadata": {},
   "source": [
    "# Hari 5: Bekerja dengan String di Python"
   ]
  },
  {
   "cell_type": "markdown",
   "metadata": {},
   "source": [
    "## 1. Pengenalan String\n",
    "String adalah tipe data yang digunakan untuk menyimpan teks dalam Python. String dideklarasikan menggunakan tanda kutip tunggal (' ') atau ganda (\" \" )."
   ]
  },
  {
   "cell_type": "code",
   "execution_count": null,
   "metadata": {},
   "outputs": [],
   "source": [
    "teks = 'Halo, Python!'\n",
    "print(teks)"
   ]
  },
  {
   "cell_type": "markdown",
   "metadata": {},
   "source": [
    "## 2. Operasi Dasar String\n",
    "Python menyediakan berbagai operasi pada string seperti menggabungkan, mengulang, dan mengakses karakter tertentu."
   ]
  },
  {
   "cell_type": "code",
   "execution_count": null,
   "metadata": {},
   "outputs": [],
   "source": [
    "satu = 'Python'\n",
    "dua = 'Keren'\n",
    "gabungan = satu + ' ' + dua  # Penggabungan string\n",
    "print(gabungan)\n",
    "ulang = satu * 3  # Mengulang string\n",
    "print(ulang)\n",
    "print(satu[0])  # Mengakses karakter pertama"
   ]
  },
  {
   "cell_type": "markdown",
   "metadata": {},
   "source": [
    "## 3. Metode String\n",
    "Beberapa metode umum dalam string seperti `upper()`, `lower()`, `replace()`, dan `split()`."
   ]
  },
  {
   "cell_type": "code",
   "execution_count": null,
   "metadata": {},
   "outputs": [],
   "source": [
    "teks = 'Belajar Python itu Menyenangkan'\n",
    "print(teks.upper())  # Ubah ke huruf besar\n",
    "print(teks.lower())  # Ubah ke huruf kecil\n",
    "print(teks.replace('Menyenangkan', 'Mudah'))  # Ganti kata\n",
    "kata = teks.split()  # Pecah string menjadi list\n",
    "print(kata)"
   ]
  },
  {
   "cell_type": "markdown",
   "metadata": {},
   "source": [
    "## 4. F-String (String Interpolation)\n",
    "Gunakan f-string untuk menyisipkan variabel ke dalam string dengan cara yang lebih bersih dan mudah dibaca."
   ]
  },
  {
   "cell_type": "code",
   "execution_count": null,
   "metadata": {},
   "outputs": [],
   "source": [
    "nama = 'Budi'\n",
    "umur = 25\n",
    "print(f'Halo, nama saya {nama} dan saya berusia {umur} tahun.')"
   ]
  },
  {
   "cell_type": "markdown",
   "metadata": {},
   "source": [
    "## 5. Latihan\n",
    "1. Buat program yang meminta pengguna memasukkan nama dan menyapanya dengan menggunakan f-string.\n",
    "2. Buat program yang menerima kalimat dari pengguna, lalu menghitung jumlah kata dalam kalimat tersebut."
   ]
  },
  {
   "cell_type": "markdown",
   "metadata": {},
   "source": [
    "## 6. Kuis Singkat\n",
    "1. Bagaimana cara mengubah semua huruf dalam string menjadi huruf kecil?\n",
    "2. Apa fungsi dari metode `split()` dalam string?"
   ]
  },
  {
   "cell_type": "markdown",
   "metadata": {},
   "source": [
    "## 7. Tip & Trik\n",
    "- Gunakan **strip()** untuk menghapus spasi di awal dan akhir string:\n",
    "  ```python\n",
    "  teks = '  Python  ' \n",
    "  print(teks.strip())\n",
    "  ```\n",
    "- Gunakan **join()** untuk menggabungkan list menjadi string:\n",
    "  ```python\n",
    "  kata = ['Python', 'itu', 'mudah']\n",
    "  print(' '.join(kata))\n",
    "  ```\n",
    "- Gunakan **startswith()** dan **endswith()** untuk memeriksa awalan atau akhiran string:\n",
    "  ```python\n",
    "  teks = 'belajar.py'\n",
    "  print(teks.endswith('.py'))\n",
    "  ```"
   ]
  }
 ],
 "metadata": {
  "kernelspec": {
   "display_name": "Python 3",
   "language": "python",
   "name": "python3"
  },
  "language_info": {
   "codemirror_mode": {
    "name": "ipython",
    "version": 3
   },
   "file_extension": ".py",
   "mimetype": "text/x-python",
   "name": "python",
   "nbconvert_exporter": "python",
   "pygments_lexer": "ipython3",
   "version": "3.8.5"
  }
 },
 "nbformat": 4,
 "nbformat_minor": 4
}
