{
 "cells": [
  {
   "cell_type": "markdown",
   "metadata": {},
   "source": [
    "# Hari 1: Pengenalan Python dan Instalasi\n",
    "---\n"
   ]
  },
  {
   "cell_type": "markdown",
   "metadata": {},
   "source": [
    "## 1. Apa itu Python?\n",
    "Python adalah bahasa pemrograman yang mudah dipelajari, fleksibel, dan banyak digunakan untuk berbagai keperluan seperti pengembangan web, analisis data, kecerdasan buatan, dan otomasi.\n",
    "\n",
    "**Keunggulan Python:**\n",
    "- Mudah dibaca dan ditulis\n",
    "- Sintaks sederhana\n",
    "- Banyak pustaka (library) tersedia\n",
    "- Kompatibel di berbagai sistem operasi"
   ]
  },
  {
   "cell_type": "markdown",
   "metadata": {},
   "source": [
    "## 2. Menginstal Python\n",
    "Langkah-langkah instalasi:\n",
    "1. Unduh Python dari situs resmi: [https://www.python.org](https://www.python.org)\n",
    "2. Instal Python dan pastikan opsi 'Add Python to PATH' dicentang\n",
    "3. Cek instalasi dengan perintah berikut:\n"
   ]
  },
  {
   "cell_type": "code",
   "execution_count": null,
   "metadata": {},
   "outputs": [],
   "source": [
    "!python --version"
   ]
  },
  {
   "cell_type": "markdown",
   "metadata": {},
   "source": [
    "## 3. Menjalankan Python\n",
    "Ada beberapa cara menjalankan Python:\n",
    "- **Interaktif (REPL):**\n"
   ]
  },
  {
   "cell_type": "code",
   "execution_count": null,
   "metadata": {},
   "outputs": [],
   "source": [
    "!python"
   ]
  },
  {
   "cell_type": "markdown",
   "metadata": {},
   "source": [
    "- **Menjalankan skrip:** Simpan file dengan ekstensi `.py`, lalu jalankan:\n"
   ]
  },
  {
   "cell_type": "code",
   "execution_count": null,
   "metadata": {},
   "outputs": [],
   "source": [
    "!python nama_file.py"
   ]
  },
  {
   "cell_type": "markdown",
   "metadata": {},
   "source": [
    "## 4. Menulis Program Pertama\n",
    "Buat file `hello.py` dan tulis kode berikut:\n"
   ]
  },
  {
   "cell_type": "code",
   "execution_count": null,
   "metadata": {},
   "outputs": [],
   "source": [
    "print(\"Halo, dunia!\")"
   ]
  },
  {
   "cell_type": "markdown",
   "metadata": {},
   "source": [
    "## 5. Variabel dan Tipe Data\n",
    "Python tidak memerlukan deklarasi tipe data secara eksplisit:\n"
   ]
  },
  {
   "cell_type": "code",
   "execution_count": null,
   "metadata": {},
   "outputs": [],
   "source": [
    "nama = \"Budi\"  # String\n",
    "umur = 25  # Integer\n",
    "pi = 3.14  # Float\n",
    "is_student = True  # Boolean"
   ]
  },
  {
   "cell_type": "markdown",
   "metadata": {},
   "source": [
    "## 6. Operator Dasar"
   ]
  },
  {
   "cell_type": "code",
   "execution_count": null,
   "metadata": {},
   "outputs": [],
   "source": [
    "x = 10\n",
    "y = 5\n",
    "print(x + y)  # Penjumlahan\n",
    "print(x - y)  # Pengurangan\n",
    "print(x * y)  # Perkalian\n",
    "print(x / y)  # Pembagian\n",
    "print(x // y)  # Pembagian bulat\n",
    "print(x % y)  # Modulus"
   ]
  },
  {
   "cell_type": "markdown",
   "metadata": {},
   "source": [
    "## 7. Latihan\n",
    "1. Buat program Python yang mencetak nama dan usia Anda.\n",
    "2. Hitung luas persegi dengan sisi 7 menggunakan variabel."
   ]
  },
  {
   "cell_type": "markdown",
   "metadata": {},
   "source": [
    "## 8. Kuis Singkat\n",
    "1. Apa perbedaan antara `=` dan `==`?\n",
    "2. Bagaimana cara menampilkan teks 'Selamat Belajar Python!' ke layar?\n"
   ]
  },
  {
   "cell_type": "markdown",
   "metadata": {},
   "source": [
    "## 9. Tip & Trik\n",
    "- **Gunakan Virtual Environment**: Untuk menghindari konflik antara berbagai proyek Python, gunakan virtual environment dengan perintah:\n",
    "  ```sh\n",
    "  python -m venv myenv\n",
    "  source myenv/bin/activate  # Linux/macOS\n",
    "  myenv\\Scripts\\activate  # Windows\n",
    "  ```\n",
    "- **Gunakan `pyenv` untuk Mengelola Versi Python**: Instal `pyenv` untuk dengan mudah mengganti versi Python yang digunakan.\n",
    "  ```sh\n",
    "  pyenv install 3.10.6\n",
    "  pyenv global 3.10.6\n",
    "  ```\n",
    "- **Gunakan Jupyter Notebook**: Untuk eksplorasi kode lebih interaktif, jalankan Jupyter Notebook dengan perintah:\n",
    "  ```sh\n",
    "  pip install notebook\n",
    "  jupyter notebook\n",
    "  ```"
   ]
  }
 ],
 "metadata": {
  "kernelspec": {
   "display_name": "Python 3",
   "language": "python",
   "name": "python3"
  },
  "language_info": {
   "codemirror_mode": {
    "name": "ipython",
    "version": 3
   },
   "file_extension": ".py",
   "mimetype": "text/x-python",
   "name": "python",
   "nbconvert_exporter": "python",
   "pygments_lexer": "ipython3",
   "version": "3.8.5"
  }
 },
 "nbformat": 4,
 "nbformat_minor": 4
}
