{
 "cells": [
  {
   "cell_type": "markdown",
   "metadata": {},
   "source": [
    "# Hari 4: Struktur Data di Python"
   ]
  },
  {
   "cell_type": "markdown",
   "metadata": {},
   "source": [
    "## 1. List\n",
    "List adalah struktur data yang dapat menyimpan berbagai jenis data dan bersifat mutable (dapat diubah)."
   ]
  },
  {
   "cell_type": "code",
   "execution_count": null,
   "metadata": {},
   "outputs": [],
   "source": [
    "buah = ['apel', 'mangga', 'jeruk']\n",
    "print(buah)\n",
    "buah.append('pisang')  # Menambahkan elemen\n",
    "print(buah)\n",
    "buah.remove('mangga')  # Menghapus elemen\n",
    "print(buah)\n",
    "print(buah[0])  # Mengakses elemen pertama"
   ]
  },
  {
   "cell_type": "markdown",
   "metadata": {},
   "source": [
    "## 2. Tuple\n",
    "Tuple mirip dengan list, tetapi bersifat immutable (tidak dapat diubah)."
   ]
  },
  {
   "cell_type": "code",
   "execution_count": null,
   "metadata": {},
   "outputs": [],
   "source": [
    "angka = (1, 2, 3, 4, 5) # perhatikan tanda kurungnya yang membedakan dengan jenis daftar List diatas\n",
    "print(angka)\n",
    "print(angka[1])  # Mengakses elemen kedua"
   ]
  },
  {
   "cell_type": "markdown",
   "metadata": {},
   "source": [
    "## 3. Dictionary\n",
    "Dictionary menyimpan data dalam pasangan key-value. Digunakan untuk membuat daftar dengan _key_ (kunci sebagai referensi) yang unik untuk mewakili _value_ (data)"
   ]
  },
  {
   "cell_type": "code",
   "execution_count": null,
   "metadata": {},
   "outputs": [],
   "source": [
    "data_mahasiswa = {'nama': 'Budi', 'usia': 20, 'jurusan': 'Informatika'} # definisi key-value  berpasangan dan beriringan\n",
    "print(data_mahasiswa)\n",
    "print(data_mahasiswa['nama'])  # Mengakses nilai dengan kunci\n",
    "data_mahasiswa['usia'] = 21  # Mengubah nilai\n",
    "print(data_mahasiswa)"
   ]
  },
  {
   "cell_type": "markdown",
   "metadata": {},
   "source": [
    "## 4. Set\n",
    "Set adalah koleksi unik tanpa urutan tertentu."
   ]
  },
  {
   "cell_type": "code",
   "execution_count": null,
   "metadata": {},
   "outputs": [],
   "source": [
    "himpunan = {1, 2, 3, 4, 5, 5, 5}  # Duplikat akan dihapus\n",
    "print(himpunan)\n",
    "himpunan.add(6)  # Menambahkan elemen\n",
    "print(himpunan)\n",
    "himpunan.remove(2)  # Menghapus elemen\n",
    "print(himpunan)"
   ]
  },
  {
   "cell_type": "markdown",
   "metadata": {},
   "source": [
    "## 5. Latihan\n",
    "1. Buat list berisi lima nama dan tampilkan dengan perulangan.\n",
    "2. Buat dictionary yang menyimpan nama dan nilai mata kuliah.\n",
    "3. Buat set yang berisi angka unik dari sebuah list dengan elemen duplikat."
   ]
  },
  {
   "cell_type": "markdown",
   "metadata": {},
   "source": [
    "## 6. Kuis Singkat\n",
    "1. Apa perbedaan utama antara list dan tuple?\n",
    "2. Bagaimana cara menghapus elemen dalam dictionary?\n"
   ]
  },
  {
   "cell_type": "markdown",
   "metadata": {},
   "source": [
    "## 7. Tip & Trik\n",
    "- Gunakan **list comprehension** untuk membuat list secara ringkas:\n",
    "  ```python\n",
    "  angka_genap = [i for i in range(10) if i % 2 == 0]\n",
    "  print(angka_genap)\n",
    "  ```\n",
    "- Gunakan **set** untuk menghapus duplikasi dalam list:\n",
    "  ```python\n",
    "  data = [1, 2, 2, 3, 4, 4, 5]\n",
    "  unik = set(data)\n",
    "  print(unik)\n",
    "  ```\n",
    "- Gunakan **dictionary comprehension** untuk membuat dictionary baru:\n",
    "  ```python\n",
    "  angka = {x: x**2 for x in range(5)}\n",
    "  print(angka)\n",
    "  ```"
   ]
  }
 ],
 "metadata": {
  "kernelspec": {
   "display_name": "Python 3",
   "language": "python",
   "name": "python3"
  },
  "language_info": {
   "codemirror_mode": {
    "name": "ipython",
    "version": 3
   },
   "file_extension": ".py",
   "mimetype": "text/x-python",
   "name": "python",
   "nbconvert_exporter": "python",
   "pygments_lexer": "ipython3",
   "version": "3.8.5"
  }
 },
 "nbformat": 4,
 "nbformat_minor": 4
}
