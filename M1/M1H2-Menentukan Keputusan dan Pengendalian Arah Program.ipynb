{
 "cells": [
  {
   "cell_type": "markdown",
   "metadata": {},
   "source": [
    "# Hari 2: Keputusan dan Kontrol Arah Program\n",
    "---\n"
   ]
  },
  {
   "cell_type": "markdown",
   "metadata": {},
   "source": [
    "## 1. Pernyataan If-Else\n",
    "Pernyataan `if`, `elif`, dan `else` digunakan untuk pengambilan keputusan dalam Python.\n"
   ]
  },
  {
   "cell_type": "code",
   "execution_count": 2,
   "metadata": {},
   "outputs": [
    {
     "name": "stdout",
     "output_type": "stream",
     "text": [
      "Kayaknya kamu harus belajar lebih giat lagi ya !! :)\n"
     ]
    }
   ],
   "source": [
    "nilai = 0\n",
    "nilai = int(input(\"Masukkan nilai Kamu : \")) # Minta inputan dari user\n",
    "if nilai >= 80:\n",
    "    print(\"Nilai Kamu sudah Bagus, Pertahankan !\")\n",
    "elif nilai >= 70:\n",
    "    print(\"Nilai Anda Lumayan Lah\")\n",
    "else:\n",
    "    print(\"Kayaknya kamu harus belajar lebih giat lagi ya !! :)\")"
   ]
  },
  {
   "cell_type": "markdown",
   "metadata": {},
   "source": [
    "## 2. Perulangan For\n",
    "Gunakan perulangan `for` untuk mengulang suatu blok kode sebanyak jumlah yang ditentukan.\n"
   ]
  },
  {
   "cell_type": "code",
   "execution_count": 3,
   "metadata": {},
   "outputs": [
    {
     "name": "stdout",
     "output_type": "stream",
     "text": [
      "Iterasi ke- 0\n",
      "Iterasi ke- 1\n",
      "Iterasi ke- 2\n",
      "Iterasi ke- 3\n",
      "Iterasi ke- 4\n"
     ]
    }
   ],
   "source": [
    "for i in range(5):\n",
    "    print(\"Iterasi ke-\", i)"
   ]
  },
  {
   "cell_type": "markdown",
   "metadata": {},
   "source": [
    "## 3. Perulangan While\n",
    "Gunakan perulangan `while` untuk mengulang kode selama kondisi masih benar.\n"
   ]
  },
  {
   "cell_type": "code",
   "execution_count": null,
   "metadata": {},
   "outputs": [],
   "source": [
    "x = 0\n",
    "while x < 5:\n",
    "    print(\"x sekarang:\", x)\n",
    "    x += 1"
   ]
  },
  {
   "cell_type": "markdown",
   "metadata": {},
   "source": [
    "## 4. Break dan Continue\n",
    "- `break` digunakan untuk menghentikan perulangan sebelum waktunya.\n",
    "- `continue` digunakan untuk melewatkan iterasi saat ini dan melanjutkan ke iterasi berikutnya.\n"
   ]
  },
  {
   "cell_type": "code",
   "execution_count": 1,
   "metadata": {},
   "outputs": [
    {
     "name": "stdout",
     "output_type": "stream",
     "text": [
      "0\n",
      "1\n",
      "2\n",
      "3\n",
      "4\n"
     ]
    }
   ],
   "source": [
    "for i in range(10):\n",
    "    if i == 5:\n",
    "        break  # Menghentikan perulangan ketika i = 5\n",
    "    print(i)"
   ]
  },
  {
   "cell_type": "code",
   "execution_count": 2,
   "metadata": {},
   "outputs": [
    {
     "name": "stdout",
     "output_type": "stream",
     "text": [
      "1\n",
      "3\n",
      "5\n",
      "7\n",
      "9\n"
     ]
    }
   ],
   "source": [
    "for i in range(10):\n",
    "    if i % 2 == 0:\n",
    "        continue  # Melewati angka genap\n",
    "    print(i)"
   ]
  },
  {
   "cell_type": "markdown",
   "metadata": {},
   "source": [
    "## 5. Latihan\n",
    "1. Buat program Python yang meminta pengguna memasukkan angka dan menentukan apakah itu bilangan ganjil atau genap.\n",
    "2. Buat program yang mencetak semua angka dari 1 hingga 20, tetapi melewati angka yang habis dibagi 3 menggunakan `continue`."
   ]
  },
  {
   "cell_type": "markdown",
   "metadata": {},
   "source": [
    "## 6. Kuis Singkat\n",
    "1. Apa yang akan terjadi jika kondisi `while` selalu bernilai `True`?\n",
    "2. Bagaimana cara keluar dari perulangan sebelum selesai?\n"
   ]
  },
  {
   "cell_type": "markdown",
   "metadata": {},
   "source": [
    "## 7. Tip & Trik\n",
    "- Gunakan **list comprehension** sebagai alternatif perulangan `for`.\n",
    "  ```python\n",
    "  angka = [i for i in range(10) if i % 2 == 0]\n",
    "  print(angka)\n",
    "  ```\n",
    "- Gunakan **enumerate** untuk mendapatkan indeks saat melakukan iterasi.\n",
    "  ```python\n",
    "  data = ['apel', 'pisang', 'jeruk']\n",
    "  for index, item in enumerate(data):\n",
    "      print(index, item)\n",
    "  ```\n",
    "- Gunakan **else dalam perulangan** untuk mengeksekusi blok kode setelah perulangan selesai tanpa `break`.\n",
    "  ```python\n",
    "  for i in range(5):\n",
    "      print(i)\n",
    "  else:\n",
    "      print(\"Perulangan selesai tanpa break!\")\n",
    "  ```"
   ]
  }
 ],
 "metadata": {
  "kernelspec": {
   "display_name": "Python 3",
   "language": "python",
   "name": "python3"
  },
  "language_info": {
   "codemirror_mode": {
    "name": "ipython",
    "version": 3
   },
   "file_extension": ".py",
   "mimetype": "text/x-python",
   "name": "python",
   "nbconvert_exporter": "python",
   "pygments_lexer": "ipython3",
   "version": "3.12.5"
  }
 },
 "nbformat": 4,
 "nbformat_minor": 4
}
