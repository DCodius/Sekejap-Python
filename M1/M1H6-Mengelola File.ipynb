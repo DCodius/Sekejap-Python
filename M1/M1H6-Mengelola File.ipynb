{
 "cells": [
  {
   "cell_type": "markdown",
   "metadata": {},
   "source": [
    "# Hari 6: File Handling di Python"
   ]
  },
  {
   "cell_type": "markdown",
   "metadata": {},
   "source": [
    "## 1. Membuka dan Membaca File\n",
    "Gunakan fungsi `open()` untuk membuka file dan membaca isinya."
   ]
  },
  {
   "cell_type": "code",
   "execution_count": null,
   "metadata": {},
   "outputs": [],
   "source": [
    "def baca_file(nama_file):\n",
    "    with open(nama_file, 'r') as file:\n",
    "        return file.read()\n",
    "print(baca_file('contoh.txt'))"
   ]
  },
  {
   "cell_type": "markdown",
   "metadata": {},
   "source": [
    "## 2. Menulis ke File\n",
    "Gunakan mode `w` untuk menulis atau `a` untuk menambahkan isi file."
   ]
  },
  {
   "cell_type": "code",
   "execution_count": null,
   "metadata": {},
   "outputs": [],
   "source": [
    "def tulis_file(nama_file, teks):\n",
    "    with open(nama_file, 'w') as file:\n",
    "        file.write(teks)\n",
    "tulis_file('contoh.txt', 'Halo, ini contoh file!')"
   ]
  },
  {
   "cell_type": "markdown",
   "metadata": {},
   "source": [
    "## 3. Membaca File Baris per Baris\n",
    "Gunakan `readline()` atau `readlines()` untuk membaca file baris per baris."
   ]
  },
  {
   "cell_type": "code",
   "execution_count": 2,
   "metadata": {},
   "outputs": [
    {
     "name": "stdout",
     "output_type": "stream",
     "text": [
      "-- Ini adalah isi File contoh.txt ---\n",
      "1. Contoh Pembacaan file dengan Python\n",
      "2. Ini baris kedua\n",
      "3. Ini baris terakhir\n"
     ]
    }
   ],
   "source": [
    "def baca_baris(nama_file):\n",
    "    with open(nama_file, 'r') as file:\n",
    "        for baris in file:\n",
    "            print(baris.strip()) # tampilkan semua baris\n",
    "baca_baris('contoh.txt')"
   ]
  },
  {
   "cell_type": "markdown",
   "metadata": {},
   "source": [
    "## 4. Mengelola File Secara Aman dengan Try-Except\n",
    "Gunakan `try-except` untuk menangani error jika file tidak ditemukan."
   ]
  },
  {
   "cell_type": "code",
   "execution_count": null,
   "metadata": {},
   "outputs": [],
   "source": [
    "import os\n",
    "def aman_baca_file(nama_file):\n",
    "    if os.path.exists(nama_file):\n",
    "        return baca_file(nama_file)\n",
    "    return 'File tidak ditemukan!'\n",
    "print(aman_baca_file('file_tidak_ada.txt'))"
   ]
  },
  {
   "cell_type": "markdown",
   "metadata": {},
   "source": [
    "## 5. Latihan\n",
    "1. Buat program yang meminta pengguna memasukkan teks dan menyimpannya ke dalam file.\n",
    "2. Buat program yang membaca file dan menampilkan jumlah baris di dalamnya."
   ]
  },
  {
   "cell_type": "markdown",
   "metadata": {},
   "source": [
    "## 6. Kuis Singkat\n",
    "1. Apa perbedaan antara mode `w` dan `a` saat membuka file?\n",
    "2. Mengapa kita menggunakan `with open()` dibandingkan `open()` biasa?"
   ]
  },
  {
   "cell_type": "markdown",
   "metadata": {},
   "source": [
    "## 7. Tip & Trik\n",
    "- Gunakan **with open()** untuk memastikan file ditutup otomatis setelah digunakan.\n",
    "- Gunakan **mode 'a'** jika ingin menambahkan isi tanpa menimpa file lama.\n",
    "- Gunakan **os.path.exists()** untuk memeriksa apakah file ada sebelum membukanya.\n",
    "  ```python\n",
    "  if os.path.exists('contoh.txt'):\n",
    "      print(baca_file('contoh.txt'))\n",
    "  else:\n",
    "      print('File tidak ditemukan!')\n",
    "  ```"
   ]
  }
 ],
 "metadata": {
  "kernelspec": {
   "display_name": "Python 3",
   "language": "python",
   "name": "python3"
  },
  "language_info": {
   "codemirror_mode": {
    "name": "ipython",
    "version": 3
   },
   "file_extension": ".py",
   "mimetype": "text/x-python",
   "name": "python",
   "nbconvert_exporter": "python",
   "pygments_lexer": "ipython3",
   "version": "3.12.5"
  }
 },
 "nbformat": 4,
 "nbformat_minor": 4
}
