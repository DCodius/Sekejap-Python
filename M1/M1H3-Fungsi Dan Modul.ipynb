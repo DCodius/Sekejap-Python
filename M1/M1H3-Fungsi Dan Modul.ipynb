{
 "cells": [
  {
   "cell_type": "markdown",
   "metadata": {},
   "source": [
    "# Hari 3: Fungsi dan Modul"
   ]
  },
  {
   "cell_type": "markdown",
   "metadata": {},
   "source": [
    "## 1. Apa itu Fungsi?\n",
    "Fungsi adalah blok kode yang dirancang untuk melakukan tugas tertentu dan dapat digunakan kembali di dalam program. \n",
    "\n",
    "### 1.1 Membuat Fungsi\n",
    "Gunakan kata kunci `def` untuk mendefinisikan fungsi di Python."
   ]
  },
  {
   "cell_type": "code",
   "execution_count": null,
   "metadata": {},
   "outputs": [],
   "source": [
    "# fungsi tanpa hasil (Procedure) dengan parameter _nama_\n",
    "def sapa(nama):\n",
    "    print(f'Hallo, {nama}!')\n",
    "\n",
    "sapa('Budi') ## panggil fungsi yang sudah dibuat diatas dengan parameter 'Budi'"
   ]
  },
  {
   "cell_type": "markdown",
   "metadata": {},
   "source": [
    "### 1.2 Parameter dan Argumen\n",
    "Fungsi dapat menerima parameter untuk diproses."
   ]
  },
  {
   "cell_type": "code",
   "execution_count": null,
   "metadata": {},
   "outputs": [],
   "source": [
    "# fungsi dengan hasil (Function)\n",
    "def tambah(a, b):\n",
    "    return a + b # kembalikan hasil penjumlahan a dan b\n",
    "\n",
    "hasil = tambah(3, 5)\n",
    "print(hasil)"
   ]
  },
  {
   "cell_type": "markdown",
   "metadata": {},
   "source": [
    "## 2. Fungsi Bawaan Python\n",
    "Python menyediakan banyak fungsi bawaan yang bisa langsung digunakan."
   ]
  },
  {
   "cell_type": "code",
   "execution_count": null,
   "metadata": {},
   "outputs": [],
   "source": [
    "angka = [3, 1, 4, 1, 5]\n",
    "print(len(angka))  # Menghitung jumlah elemen\n",
    "print(sum(angka))  # Menjumlahkan semua elemen\n",
    "print(max(angka))  # Mencari nilai tertinggi\n",
    "print(min(angka))  # Mencari nilai terendah"
   ]
  },
  {
   "cell_type": "markdown",
   "metadata": {},
   "source": [
    "## 3. Modul di Python\n",
    "Modul adalah file yang berisi kode Python yang dapat digunakan kembali di program lain."
   ]
  },
  {
   "cell_type": "code",
   "execution_count": null,
   "metadata": {},
   "outputs": [],
   "source": [
    "import math\n",
    "print(math.sqrt(16))  # Menghitung akar kuadrat\n",
    "print(math.pi)  # Nilai konstanta Pi"
   ]
  },
  {
   "cell_type": "markdown",
   "metadata": {},
   "source": [
    "### 3.1 Membuat Modul Sendiri\n",
    "Buat file `mymodule.py` dengan isi berikut:\n",
    "\n",
    "```python\n",
    "def salam():\n",
    "    return 'Halo dari modul!'\n",
    "```\n",
    "Kemudian gunakan dalam program utama:\n"
   ]
  },
  {
   "cell_type": "code",
   "execution_count": null,
   "metadata": {},
   "outputs": [],
   "source": [
    "import mymodule # impor modul mymodule (agar  fungsi bisa dipanggil)\n",
    "print(mymodule.salam()) # panggil fungsi salam() dari modul mymodule"
   ]
  },
  {
   "cell_type": "markdown",
   "metadata": {},
   "source": [
    "## 4. Latihan\n",
    "1. Buat fungsi yang menerima dua angka dan mengembalikan hasil perkaliannya.\n",
    "2. Buat modul bernama `hitung.py` yang berisi fungsi untuk menghitung luas persegi.\n",
    "3. Impor modul `hitung` dalam program utama dan gunakan fungsinya."
   ]
  },
  {
   "cell_type": "markdown",
   "metadata": {},
   "source": [
    "## 5. Kuis Singkat\n",
    "1. Apa perbedaan antara `return` dan `print()` dalam fungsi?\n",
    "2. Bagaimana cara mengimpor hanya satu fungsi dari sebuah modul?"
   ]
  },
  {
   "cell_type": "markdown",
   "metadata": {},
   "source": [
    "## 6. Tip & Trik\n",
    "- Gunakan penamaan fungsi sesuai kegunaannya. \n",
    "- Penting diingat modul dan fungsi untuk menghindari baris kode yang berulang merupakan implementasi dari konsep DRY. \n",
    "- Buat fungsi sesederhana mungkin dan tidak lebih dari 1/2 layar tampilan baris kode. \n",
    "- Gunakan **docstring** untuk memberikan dokumentasi dalam fungsi:\n",
    "  ```python\n",
    "  def bagi(a, b):\n",
    "      \"\"\"Mengembalikan hasil pembagian a oleh b\"\"\"\n",
    "      return a / b\n",
    "  ```\n",
    "- Gunakan **lambda function** untuk fungsi sederhana:\n",
    "  ```python\n",
    "  kali = lambda x, y: x * y\n",
    "  print(kali(3, 4))\n",
    "  ```\n",
    "- Gunakan **try-except** saat menangani kesalahan dalam fungsi:\n",
    "  ```python\n",
    "  def bagi(a, b):\n",
    "      try:\n",
    "          return a / b\n",
    "      except ZeroDivisionError:\n",
    "          return 'Tidak bisa dibagi nol'\n",
    "  ```"
   ]
  },
  {
   "cell_type": "markdown",
   "metadata": {},
   "source": []
  }
 ],
 "metadata": {
  "kernelspec": {
   "display_name": "Python 3",
   "language": "python",
   "name": "python3"
  },
  "language_info": {
   "codemirror_mode": {
    "name": "ipython",
    "version": 3
   },
   "file_extension": ".py",
   "mimetype": "text/x-python",
   "name": "python",
   "nbconvert_exporter": "python",
   "pygments_lexer": "ipython3",
   "version": "3.8.5"
  }
 },
 "nbformat": 4,
 "nbformat_minor": 4
}
